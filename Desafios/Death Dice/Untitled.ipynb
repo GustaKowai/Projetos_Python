{
 "cells": [
  {
   "cell_type": "code",
   "execution_count": 85,
   "id": "70950ff6",
   "metadata": {},
   "outputs": [
    {
     "name": "stdout",
     "output_type": "stream",
     "text": [
      "1\n",
      "5\n",
      "6\n",
      "7\n",
      "19\n",
      "35\n",
      "85\n",
      "134\n",
      "200\n",
      "315\n",
      "850\n",
      "1353\n",
      "2016\n",
      "8140\n",
      "8920\n",
      "3.8825434614106964\n",
      "0.63876\n"
     ]
    }
   ],
   "source": [
    "import random\n",
    "dice = 2\n",
    "died = 0 #isso define se a pessoa ta viva ou morta. 0 é vivo, 1 é morta.\n",
    "year = 0 #idade da pessoa\n",
    "years = 0 #soma da idade de todos os mortais\n",
    "i = 0 #contador\n",
    "b=0\n",
    "oldest = 0\n",
    "mortos = 0\n",
    "for i in range (100000): #define quantas pessoas irão apostar com a morte\n",
    "    died = 0 #importante zerar a idade e se morreu no inicio de cada \"aposta\"\n",
    "    year = 0\n",
    "    dice = 2\n",
    "    while died == 0:\n",
    "        dice1 = random.randint(1,dice)\n",
    "        dice2 = random.randint(1,dice)\n",
    "        if dice1==dice2==1 or year > 10000: #aqui se define com quantos anos a pessoa passa a ser \"imortal\" isso pq depois de um certo valor de anos, a chance de morrer passa a ser tão baixa que pode ser enquadrada no erro estatistico.\n",
    "            died = 1\n",
    "        else:\n",
    "            dice = dice +2\n",
    "            year = year+1\n",
    "            #print (\"survived\")\n",
    "    if year > 10000:\n",
    "        b=b# isso ta aqui só para poder fazer a comparação, se a pessoa for imortal, ela cai aqui, se ela não for, vai para o outro. Tem forma melhor de fazer mas eu queria deixar isso aqui caso eu quisesse fazer algo com o numero de imortais\n",
    "        #print (\"imortal\")\n",
    "    else:\n",
    "        #print (year)\n",
    "        mortos = mortos +1\n",
    "        years = years + year\n",
    "        if year > oldest:\n",
    "            oldest = year\n",
    "            print (oldest)\n",
    "print (years/mortos)\n",
    "print (1-(mortos/100000))"
   ]
  },
  {
   "cell_type": "code",
   "execution_count": null,
   "id": "e86d20a4",
   "metadata": {},
   "outputs": [],
   "source": [
    "import random\n",
    "\n",
    "a = random.randint(1,6)\n",
    "\n",
    "print (a)\n"
   ]
  },
  {
   "cell_type": "code",
   "execution_count": null,
   "id": "15df73db",
   "metadata": {},
   "outputs": [],
   "source": []
  }
 ],
 "metadata": {
  "kernelspec": {
   "display_name": "Python 3",
   "language": "python",
   "name": "python3"
  },
  "language_info": {
   "codemirror_mode": {
    "name": "ipython",
    "version": 3
   },
   "file_extension": ".py",
   "mimetype": "text/x-python",
   "name": "python",
   "nbconvert_exporter": "python",
   "pygments_lexer": "ipython3",
   "version": "3.8.8"
  }
 },
 "nbformat": 4,
 "nbformat_minor": 5
}
